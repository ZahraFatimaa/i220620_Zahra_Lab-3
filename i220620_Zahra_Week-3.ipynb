{
  "cells": [
    {
      "cell_type": "markdown",
      "metadata": {
        "id": "DR3RvooloecS"
      },
      "source": [
        "# Lab Task 01"
      ]
    },
    {
      "cell_type": "markdown",
      "metadata": {
        "id": "Oi-yFvItoWzc"
      },
      "source": [
        "Reshape a 1D NumPy array into a 2D array with dimensions (3, 4).\n",
        "\n",
        "Concatenate two NumPy arrays horizontally and vertically."
      ]
    },
    {
      "cell_type": "code",
      "execution_count": null,
      "metadata": {
        "colab": {
          "base_uri": "https://localhost:8080/"
        },
        "id": "c379PMYOobDK",
        "outputId": "166c6559-4703-497f-e1cb-0b17c68453e3"
      },
      "outputs": [
        {
          "name": "stdout",
          "output_type": "stream",
          "text": [
            "[ 1  2  3  4  5  6  7  8  9 10 12 12]\n",
            "[[ 1  2  3  4]\n",
            " [ 5  6  7  8]\n",
            " [ 9 10 12 12]]\n"
          ]
        }
      ],
      "source": [
        "#code here\n",
        "# Reshape a 1D NumPy array into a 2D array with dimensions (3, 4).\n",
        "import numpy as np\n",
        "arr1 = np.array([1,2,3,4,5,6,7,8,9,10,12,12])\n",
        "arr2 = arr1.reshape(3,4)\n",
        "print(arr1)\n",
        "print(arr2)"
      ]
    },
    {
      "cell_type": "code",
      "execution_count": null,
      "metadata": {
        "colab": {
          "base_uri": "https://localhost:8080/"
        },
        "id": "Ikeap7KBAF-S",
        "outputId": "4ff7b600-7c31-47ab-8b9f-46e8b07a7d17"
      },
      "outputs": [
        {
          "name": "stdout",
          "output_type": "stream",
          "text": [
            "Horizontal: \n",
            " [[ 2  4  3  9 14 16 14 19]\n",
            " [ 8  1  2  5 13 13 18 16]\n",
            " [ 9  2  9  6 18 17 14 18]]\n",
            "Vertical: \n",
            " [[ 2  4  3  9]\n",
            " [ 8  1  2  5]\n",
            " [ 9  2  9  6]\n",
            " [14 16 14 19]\n",
            " [13 13 18 16]\n",
            " [18 17 14 18]]\n"
          ]
        }
      ],
      "source": [
        "#Concatenate two NumPy arrays horizontally and vertically.\n",
        "import numpy as np\n",
        "\n",
        "arr1 = np.random.randint(1,10,(3,4))\n",
        "arr2 = np.random.randint(11,21,(3,4))\n",
        "\n",
        "horizontal = np.concatenate([arr1,arr2],axis=1)\n",
        "vertical = np.concatenate([arr1,arr2],axis=0)\n",
        "\n",
        "print(\"Horizontal: \\n\",horizontal)\n",
        "print(\"Vertical: \\n\",vertical)"
      ]
    },
    {
      "cell_type": "markdown",
      "metadata": {
        "id": "Dv9DtQ3jp6mq"
      },
      "source": [
        "# Lab Task 02"
      ]
    },
    {
      "cell_type": "markdown",
      "metadata": {
        "id": "2i6-zm_1ZAdn"
      },
      "source": [
        "\n",
        "## Email Classification\n",
        "Develope a tool which will classify an email.\n",
        "\n",
        "### Tasks:\n",
        "* Create a function classify_emails that takes a list of emails as an argument.\n",
        "* Inside the function, categorize emails into \"Important,\" \"Promotions,\" and \"Spam\" based on keywords and content analysis.\n",
        "* Loop through the emails and identify keywords to determine their category.\n",
        "* If an email contains keywords indicating importance, assign it as \"Important.\"\n",
        "* If an email contains keywords related to promotions or deals, assign it as \"Promotions.\"\n",
        "* If an email is suspected to be spam based on certain keywords or patterns, assign it as \"Spam.\"\n",
        "* Return three lists of emails for each category.\n",
        "* Print the lists."
      ]
    },
    {
      "cell_type": "code",
      "execution_count": null,
      "metadata": {
        "colab": {
          "base_uri": "https://localhost:8080/"
        },
        "id": "SnCGPkq-o84Z",
        "outputId": "e0c3566c-0c28-4d1b-a89d-50c15d03972c"
      },
      "outputs": [
        {
          "name": "stdout",
          "output_type": "stream",
          "text": [
            "important: \n",
            "Urgent Your action required for biometric verification\n",
            "Urgent Your action required for biometric verification\n",
            "Important meeting arranged tomorrow\n",
            "Promotion Email: \n",
            "offer on selected products upto\n",
            "discount available on J. dresses\n",
            "Spam: \n",
            "Yay! you won free hotdog\n"
          ]
        }
      ],
      "source": [
        "#code here\n",
        "\n",
        "def classify_emails(emails):\n",
        "\n",
        "    important = [\"urgent\", \"important\", \"action\"]\n",
        "    promotion = [\"discount\", \"offer\"]\n",
        "    spam = [\"lottery\", \"free\", \"prize\"]\n",
        "\n",
        "    imp_email = []\n",
        "    promo_email = []\n",
        "    spam_e = []\n",
        "\n",
        "    for e in emails:\n",
        "        e_lower = e.lower()\n",
        "        tokens = e_lower.split()\n",
        "        for token in tokens:\n",
        "            if token in important:\n",
        "                imp_email.append(e)\n",
        "\n",
        "            elif token in promotion:\n",
        "                promo_email.append(e)\n",
        "\n",
        "            elif token in spam:\n",
        "                spam_e.append(e)\n",
        "\n",
        "\n",
        "    return spam_e, imp_email, promo_email\n",
        "\n",
        "\n",
        "\n",
        "Email_list = [\n",
        "              \"Urgent Your action required for biometric verification\",\n",
        "              \"Important meeting arranged tomorrow\",\n",
        "              \"offer on selected products upto\",\n",
        "              \"discount available on J. dresses\",\n",
        "              \"Yay! you won free hotdog\"\n",
        "]\n",
        "\n",
        "spamm , important , promo = classify_emails(Email_list)\n",
        "\n",
        "print(\"important: \")\n",
        "for imp in important:\n",
        "    print(imp)\n",
        "\n",
        "print('Promotion Email: ')\n",
        "for p in promo:\n",
        "    print(p)\n",
        "\n",
        "print(\"Spam: \")\n",
        "for sp in spamm:\n",
        "    print(sp)\n"
      ]
    },
    {
      "cell_type": "markdown",
      "metadata": {
        "id": "amtV-GLWpCC7"
      },
      "source": [
        "# Lab Task 03"
      ]
    },
    {
      "cell_type": "markdown",
      "metadata": {
        "id": "M2Zg-XsUpC72"
      },
      "source": [
        "## English-Spanish Dictionary\n",
        "You are creating a basic English-Spanish dictionary that allows users to look up English words and find their Spanish translations.\n",
        "\n",
        "\n",
        "### Tasks\n",
        "* Create a dictionary where English words are keys and their Spanish translations are values.\n",
        "* Ask the user to input an English word.\n",
        "* Check if the word exists in the dictionary.\n",
        "* If the word exists, print its Spanish translation.\n",
        "* If the word does not exist, inform the user that the translation is not available.\n",
        "* Implement a loop that allows the user to keep looking up words until they choose to exit.\n"
      ]
    },
    {
      "cell_type": "code",
      "execution_count": 2,
      "metadata": {
        "colab": {
          "base_uri": "https://localhost:8080/"
        },
        "id": "7RKtYbMZpJdh",
        "outputId": "cd440415-afbb-4109-9f00-8fd1235d4226"
      },
      "outputs": [
        {
          "name": "stdout",
          "output_type": "stream",
          "text": [
            "Enter a word type 'exit' to quit: car\n",
            "The Spanish translation of 'car' is 'coche'.\n",
            "Enter a word type 'exit' to quit: exit\n"
          ]
        }
      ],
      "source": [
        "#code here\n",
        "#code here\n",
        "\n",
        "content = {\n",
        "    \"apple\": \"manzana\",\n",
        "    \"hello\": \"hola\",\n",
        "    \"how are you\": \"Cómo estás\",\n",
        "    \"what is you name\": \"cómo te llamas\",\n",
        "    \"goodbye\": \"adiós\",\n",
        "    \"car\": \"coche\"\n",
        "}\n",
        "\n",
        "def Translator(word):\n",
        "    if word in content:\n",
        "        return content[word]\n",
        "    else:\n",
        "        return None\n",
        "\n",
        "\n",
        "while True:\n",
        "\n",
        "    word = input(\"Enter a word type 'exit' to quit: \").lower()\n",
        "    if word == 'exit':\n",
        "        break\n",
        "    translate = Translator(word)\n",
        "    if translate:\n",
        "        print(\"The Spanish translation of '{}' is '{}'.\".format(word, translate))\n",
        "    else:\n",
        "        print(\"Translation not available for '{}'.\".format(word))\n"
      ]
    },
    {
      "cell_type": "markdown",
      "metadata": {
        "id": "h_8wOMWitspv"
      },
      "source": [
        "# Lab Task 04"
      ]
    },
    {
      "cell_type": "markdown",
      "metadata": {
        "id": "Qq4VH1Jkts32"
      },
      "source": [
        "dataset link : https://raw.githubusercontent.com/TirendazAcademy/PANDAS-TUTORIAL/main/DataSets/vgsalesGlobale.csv\n",
        "#Exercise\n",
        "Use the dataset of Game, we have explored earlier and perform following operations.\n",
        "\n",
        "* Calculate the total global sales for all games in the dataset.\n",
        "* Find the game with the highest global sales.\n",
        "* Determine the average sales for each region (NA_Sales, EU_Sales, JP_Sales, Other_Sales).\n",
        "* Find the top 5 most popular game genres based on global sales.\n",
        "* Calculate the total sales for each genre in each region and find the most popular genre in North America (NA_Sales).\n",
        "* Display last 10 rows.\n",
        "* Determine the top 3 gaming platforms with the highest global sales.\n",
        "* Calculate the market share (percentage of global sales) for each genre.\n",
        "* Calculate the correlation coefficient between NA_Sales and EU_Sales. (.corr function)"
      ]
    },
    {
      "cell_type": "markdown",
      "metadata": {
        "id": "b9WEL8JcZFfY"
      },
      "source": [
        "Some tree example"
      ]
    },
    {
      "cell_type": "code",
      "execution_count": null,
      "metadata": {
        "id": "re3_ijh12uCi"
      },
      "outputs": [],
      "source": [
        "# import pandas as pd\n",
        "\n",
        "# # Create a DataFrame to represent a tree\n",
        "# data = {\n",
        "#     'node': ['A', 'B', 'C', 'D', 'E', 'F'],\n",
        "#     'parent': [None, 'A', 'A', 'B', 'B', 'C']\n",
        "# }\n",
        "# df = pd.DataFrame(data)\n",
        "\n",
        "# print(df)\n"
      ]
    },
    {
      "cell_type": "code",
      "execution_count": null,
      "metadata": {
        "id": "4eYXGm0c2yAl"
      },
      "outputs": [],
      "source": [
        "# pip install networkx\n"
      ]
    },
    {
      "cell_type": "code",
      "execution_count": null,
      "metadata": {
        "id": "QBd8dZTF224G"
      },
      "outputs": [],
      "source": [
        "# import pandas as pd\n",
        "# import networkx as nx\n",
        "# import matplotlib.pyplot as plt\n",
        "\n",
        "# # Create a DataFrame representing edges in a graph\n",
        "# data = {\n",
        "#     'from': ['A', 'A', 'B', 'C', 'D'],\n",
        "#     'to': ['B', 'C', 'D', 'E', 'E']\n",
        "# }\n",
        "# edges = pd.DataFrame(data)\n",
        "\n",
        "# # Create a graph from the edges DataFrame\n",
        "# G = nx.from_pandas_edgelist(edges, 'from', 'to')\n",
        "\n",
        "# # Draw the graph\n",
        "# nx.draw(G, with_labels=True)\n",
        "# plt.show()\n",
        "\n",
        "# # Analyze the graph\n",
        "# print(\"Nodes:\", G.nodes())\n",
        "# print(\"Edges:\", G.edges())\n",
        "# print(\"Degree for each Node:\", dict(G.degree()))\n"
      ]
    },
    {
      "cell_type": "code",
      "execution_count": 1,
      "metadata": {},
      "outputs": [
        {
          "data": {
            "text/html": [
              "<div>\n",
              "<style scoped>\n",
              "    .dataframe tbody tr th:only-of-type {\n",
              "        vertical-align: middle;\n",
              "    }\n",
              "\n",
              "    .dataframe tbody tr th {\n",
              "        vertical-align: top;\n",
              "    }\n",
              "\n",
              "    .dataframe thead th {\n",
              "        text-align: right;\n",
              "    }\n",
              "</style>\n",
              "<table border=\"1\" class=\"dataframe\">\n",
              "  <thead>\n",
              "    <tr style=\"text-align: right;\">\n",
              "      <th></th>\n",
              "      <th>Rank</th>\n",
              "      <th>Name</th>\n",
              "      <th>Platform</th>\n",
              "      <th>Year</th>\n",
              "      <th>Genre</th>\n",
              "      <th>Publisher</th>\n",
              "      <th>NA_Sales</th>\n",
              "      <th>EU_Sales</th>\n",
              "      <th>JP_Sales</th>\n",
              "      <th>Other_Sales</th>\n",
              "      <th>Global_Sales</th>\n",
              "    </tr>\n",
              "  </thead>\n",
              "  <tbody>\n",
              "    <tr>\n",
              "      <th>0</th>\n",
              "      <td>1</td>\n",
              "      <td>Wii Sports</td>\n",
              "      <td>Wii</td>\n",
              "      <td>2006.0</td>\n",
              "      <td>Sports</td>\n",
              "      <td>Nintendo</td>\n",
              "      <td>41.49</td>\n",
              "      <td>29.02</td>\n",
              "      <td>3.77</td>\n",
              "      <td>8.46</td>\n",
              "      <td>82.74</td>\n",
              "    </tr>\n",
              "    <tr>\n",
              "      <th>1</th>\n",
              "      <td>2</td>\n",
              "      <td>Super Mario Bros.</td>\n",
              "      <td>NES</td>\n",
              "      <td>1985.0</td>\n",
              "      <td>Platform</td>\n",
              "      <td>Nintendo</td>\n",
              "      <td>29.08</td>\n",
              "      <td>3.58</td>\n",
              "      <td>6.81</td>\n",
              "      <td>0.77</td>\n",
              "      <td>40.24</td>\n",
              "    </tr>\n",
              "    <tr>\n",
              "      <th>2</th>\n",
              "      <td>3</td>\n",
              "      <td>Mario Kart Wii</td>\n",
              "      <td>Wii</td>\n",
              "      <td>2008.0</td>\n",
              "      <td>Racing</td>\n",
              "      <td>Nintendo</td>\n",
              "      <td>15.85</td>\n",
              "      <td>12.88</td>\n",
              "      <td>3.79</td>\n",
              "      <td>3.31</td>\n",
              "      <td>35.82</td>\n",
              "    </tr>\n",
              "    <tr>\n",
              "      <th>3</th>\n",
              "      <td>4</td>\n",
              "      <td>Wii Sports Resort</td>\n",
              "      <td>Wii</td>\n",
              "      <td>2009.0</td>\n",
              "      <td>Sports</td>\n",
              "      <td>Nintendo</td>\n",
              "      <td>15.75</td>\n",
              "      <td>11.01</td>\n",
              "      <td>3.28</td>\n",
              "      <td>2.96</td>\n",
              "      <td>33.00</td>\n",
              "    </tr>\n",
              "    <tr>\n",
              "      <th>4</th>\n",
              "      <td>5</td>\n",
              "      <td>Pokemon Red/Pokemon Blue</td>\n",
              "      <td>GB</td>\n",
              "      <td>1996.0</td>\n",
              "      <td>Role-Playing</td>\n",
              "      <td>Nintendo</td>\n",
              "      <td>11.27</td>\n",
              "      <td>8.89</td>\n",
              "      <td>10.22</td>\n",
              "      <td>1.00</td>\n",
              "      <td>31.37</td>\n",
              "    </tr>\n",
              "    <tr>\n",
              "      <th>...</th>\n",
              "      <td>...</td>\n",
              "      <td>...</td>\n",
              "      <td>...</td>\n",
              "      <td>...</td>\n",
              "      <td>...</td>\n",
              "      <td>...</td>\n",
              "      <td>...</td>\n",
              "      <td>...</td>\n",
              "      <td>...</td>\n",
              "      <td>...</td>\n",
              "      <td>...</td>\n",
              "    </tr>\n",
              "    <tr>\n",
              "      <th>16593</th>\n",
              "      <td>16596</td>\n",
              "      <td>Woody Woodpecker in Crazy Castle 5</td>\n",
              "      <td>GBA</td>\n",
              "      <td>2002.0</td>\n",
              "      <td>Platform</td>\n",
              "      <td>Kemco</td>\n",
              "      <td>0.01</td>\n",
              "      <td>0.00</td>\n",
              "      <td>0.00</td>\n",
              "      <td>0.00</td>\n",
              "      <td>0.01</td>\n",
              "    </tr>\n",
              "    <tr>\n",
              "      <th>16594</th>\n",
              "      <td>16597</td>\n",
              "      <td>Men in Black II: Alien Escape</td>\n",
              "      <td>GC</td>\n",
              "      <td>2003.0</td>\n",
              "      <td>Shooter</td>\n",
              "      <td>Infogrames</td>\n",
              "      <td>0.01</td>\n",
              "      <td>0.00</td>\n",
              "      <td>0.00</td>\n",
              "      <td>0.00</td>\n",
              "      <td>0.01</td>\n",
              "    </tr>\n",
              "    <tr>\n",
              "      <th>16595</th>\n",
              "      <td>16598</td>\n",
              "      <td>SCORE International Baja 1000: The Official Game</td>\n",
              "      <td>PS2</td>\n",
              "      <td>2008.0</td>\n",
              "      <td>Racing</td>\n",
              "      <td>Activision</td>\n",
              "      <td>0.00</td>\n",
              "      <td>0.00</td>\n",
              "      <td>0.00</td>\n",
              "      <td>0.00</td>\n",
              "      <td>0.01</td>\n",
              "    </tr>\n",
              "    <tr>\n",
              "      <th>16596</th>\n",
              "      <td>16599</td>\n",
              "      <td>Know How 2</td>\n",
              "      <td>DS</td>\n",
              "      <td>2010.0</td>\n",
              "      <td>Puzzle</td>\n",
              "      <td>7G//AMES</td>\n",
              "      <td>0.00</td>\n",
              "      <td>0.01</td>\n",
              "      <td>0.00</td>\n",
              "      <td>0.00</td>\n",
              "      <td>0.01</td>\n",
              "    </tr>\n",
              "    <tr>\n",
              "      <th>16597</th>\n",
              "      <td>16600</td>\n",
              "      <td>Spirits &amp; Spells</td>\n",
              "      <td>GBA</td>\n",
              "      <td>2003.0</td>\n",
              "      <td>Platform</td>\n",
              "      <td>Wanadoo</td>\n",
              "      <td>0.01</td>\n",
              "      <td>0.00</td>\n",
              "      <td>0.00</td>\n",
              "      <td>0.00</td>\n",
              "      <td>0.01</td>\n",
              "    </tr>\n",
              "  </tbody>\n",
              "</table>\n",
              "<p>16598 rows × 11 columns</p>\n",
              "</div>"
            ],
            "text/plain": [
              "        Rank                                              Name Platform  \\\n",
              "0          1                                        Wii Sports      Wii   \n",
              "1          2                                 Super Mario Bros.      NES   \n",
              "2          3                                    Mario Kart Wii      Wii   \n",
              "3          4                                 Wii Sports Resort      Wii   \n",
              "4          5                          Pokemon Red/Pokemon Blue       GB   \n",
              "...      ...                                               ...      ...   \n",
              "16593  16596                Woody Woodpecker in Crazy Castle 5      GBA   \n",
              "16594  16597                     Men in Black II: Alien Escape       GC   \n",
              "16595  16598  SCORE International Baja 1000: The Official Game      PS2   \n",
              "16596  16599                                        Know How 2       DS   \n",
              "16597  16600                                  Spirits & Spells      GBA   \n",
              "\n",
              "         Year         Genre   Publisher  NA_Sales  EU_Sales  JP_Sales  \\\n",
              "0      2006.0        Sports    Nintendo     41.49     29.02      3.77   \n",
              "1      1985.0      Platform    Nintendo     29.08      3.58      6.81   \n",
              "2      2008.0        Racing    Nintendo     15.85     12.88      3.79   \n",
              "3      2009.0        Sports    Nintendo     15.75     11.01      3.28   \n",
              "4      1996.0  Role-Playing    Nintendo     11.27      8.89     10.22   \n",
              "...       ...           ...         ...       ...       ...       ...   \n",
              "16593  2002.0      Platform       Kemco      0.01      0.00      0.00   \n",
              "16594  2003.0       Shooter  Infogrames      0.01      0.00      0.00   \n",
              "16595  2008.0        Racing  Activision      0.00      0.00      0.00   \n",
              "16596  2010.0        Puzzle    7G//AMES      0.00      0.01      0.00   \n",
              "16597  2003.0      Platform     Wanadoo      0.01      0.00      0.00   \n",
              "\n",
              "       Other_Sales  Global_Sales  \n",
              "0             8.46         82.74  \n",
              "1             0.77         40.24  \n",
              "2             3.31         35.82  \n",
              "3             2.96         33.00  \n",
              "4             1.00         31.37  \n",
              "...            ...           ...  \n",
              "16593         0.00          0.01  \n",
              "16594         0.00          0.01  \n",
              "16595         0.00          0.01  \n",
              "16596         0.00          0.01  \n",
              "16597         0.00          0.01  \n",
              "\n",
              "[16598 rows x 11 columns]"
            ]
          },
          "execution_count": 1,
          "metadata": {},
          "output_type": "execute_result"
        }
      ],
      "source": [
        "import pandas as pd\n",
        "\n",
        "df = pd.read_csv('https://raw.githubusercontent.com/TirendazAcademy/PANDAS-TUTORIAL/main/DataSets/vgsalesGlobale.csv', delimiter=',')\n",
        "df"
      ]
    },
    {
      "cell_type": "code",
      "execution_count": 3,
      "metadata": {},
      "outputs": [
        {
          "data": {
            "text/plain": [
              "8920.44"
            ]
          },
          "execution_count": 3,
          "metadata": {},
          "output_type": "execute_result"
        }
      ],
      "source": [
        "# Total global sales in the dataset.\n",
        "df['Global_Sales'].sum()"
      ]
    },
    {
      "cell_type": "code",
      "execution_count": 11,
      "metadata": {},
      "outputs": [
        {
          "data": {
            "text/html": [
              "<div>\n",
              "<style scoped>\n",
              "    .dataframe tbody tr th:only-of-type {\n",
              "        vertical-align: middle;\n",
              "    }\n",
              "\n",
              "    .dataframe tbody tr th {\n",
              "        vertical-align: top;\n",
              "    }\n",
              "\n",
              "    .dataframe thead th {\n",
              "        text-align: right;\n",
              "    }\n",
              "</style>\n",
              "<table border=\"1\" class=\"dataframe\">\n",
              "  <thead>\n",
              "    <tr style=\"text-align: right;\">\n",
              "      <th></th>\n",
              "      <th>Rank</th>\n",
              "      <th>Name</th>\n",
              "      <th>Platform</th>\n",
              "      <th>Year</th>\n",
              "      <th>Genre</th>\n",
              "      <th>Publisher</th>\n",
              "      <th>NA_Sales</th>\n",
              "      <th>EU_Sales</th>\n",
              "      <th>JP_Sales</th>\n",
              "      <th>Other_Sales</th>\n",
              "      <th>Global_Sales</th>\n",
              "    </tr>\n",
              "  </thead>\n",
              "  <tbody>\n",
              "    <tr>\n",
              "      <th>0</th>\n",
              "      <td>1</td>\n",
              "      <td>Wii Sports</td>\n",
              "      <td>Wii</td>\n",
              "      <td>2006.0</td>\n",
              "      <td>Sports</td>\n",
              "      <td>Nintendo</td>\n",
              "      <td>41.49</td>\n",
              "      <td>29.02</td>\n",
              "      <td>3.77</td>\n",
              "      <td>8.46</td>\n",
              "      <td>82.74</td>\n",
              "    </tr>\n",
              "  </tbody>\n",
              "</table>\n",
              "</div>"
            ],
            "text/plain": [
              "   Rank        Name Platform    Year   Genre Publisher  NA_Sales  EU_Sales  \\\n",
              "0     1  Wii Sports      Wii  2006.0  Sports  Nintendo     41.49     29.02   \n",
              "\n",
              "   JP_Sales  Other_Sales  Global_Sales  \n",
              "0      3.77         8.46         82.74  "
            ]
          },
          "execution_count": 11,
          "metadata": {},
          "output_type": "execute_result"
        }
      ],
      "source": [
        "# the game with the highest global sales.\n",
        "\n",
        "df[df['Global_Sales'] == df['Global_Sales'].max()]"
      ]
    },
    {
      "cell_type": "code",
      "execution_count": 12,
      "metadata": {},
      "outputs": [
        {
          "data": {
            "text/plain": [
              "NA_Sales       0.264667\n",
              "EU_Sales       0.146652\n",
              "JP_Sales       0.077782\n",
              "Other_Sales    0.048063\n",
              "dtype: float64"
            ]
          },
          "execution_count": 12,
          "metadata": {},
          "output_type": "execute_result"
        }
      ],
      "source": [
        "# average sales for each region (NA_Sales, EU_Sales, JP_Sales, Other_Sales).\n",
        "\n",
        "df[['NA_Sales', 'EU_Sales', 'JP_Sales', 'Other_Sales']].mean()"
      ]
    },
    {
      "cell_type": "code",
      "execution_count": 14,
      "metadata": {},
      "outputs": [
        {
          "data": {
            "text/plain": [
              "Genre\n",
              "Action          1751.18\n",
              "Sports          1330.93\n",
              "Shooter         1037.37\n",
              "Role-Playing     927.37\n",
              "Platform         831.37\n",
              "Name: Global_Sales, dtype: float64"
            ]
          },
          "execution_count": 14,
          "metadata": {},
          "output_type": "execute_result"
        }
      ],
      "source": [
        "# Find the top 5 most popular game genres based on global sales.\n",
        "\n",
        "df.groupby('Genre')['Global_Sales'].sum().nlargest(5)"
      ]
    },
    {
      "cell_type": "code",
      "execution_count": 18,
      "metadata": {},
      "outputs": [
        {
          "name": "stdout",
          "output_type": "stream",
          "text": [
            "              NA_Sales  EU_Sales  JP_Sales  Other_Sales\n",
            "Genre                                                  \n",
            "Action          877.83    525.00    159.95       187.38\n",
            "Adventure       105.80     64.13     52.07        16.81\n",
            "Fighting        223.59    101.32     87.35        36.68\n",
            "Misc            410.24    215.98    107.76        75.32\n",
            "Platform        447.05    201.63    130.77        51.59\n",
            "Puzzle          123.78     50.78     57.31        12.55\n",
            "Racing          359.42    238.39     56.69        77.27\n",
            "Role-Playing    327.28    188.06    352.31        59.61\n",
            "Shooter         582.60    313.27     38.28       102.69\n",
            "Simulation      183.31    113.38     63.70        31.52\n",
            "Sports          683.35    376.85    135.37       134.97\n",
            "Strategy         68.70     45.34     49.46        11.36\n"
          ]
        },
        {
          "data": {
            "text/plain": [
              "Genre\n",
              "Action    877.83\n",
              "Name: NA_Sales, dtype: float64"
            ]
          },
          "execution_count": 18,
          "metadata": {},
          "output_type": "execute_result"
        }
      ],
      "source": [
        "# Calculate the total sales for each genre in each region and find the most popular genre in North America (NA_Sales).\n",
        "\n",
        "print(df.groupby('Genre')[['NA_Sales', 'EU_Sales', 'JP_Sales', 'Other_Sales']].sum())\n",
        "\n",
        "df.groupby('Genre')['NA_Sales'].sum().nlargest(1)\n",
        "\n"
      ]
    },
    {
      "cell_type": "code",
      "execution_count": 19,
      "metadata": {},
      "outputs": [
        {
          "data": {
            "text/html": [
              "<div>\n",
              "<style scoped>\n",
              "    .dataframe tbody tr th:only-of-type {\n",
              "        vertical-align: middle;\n",
              "    }\n",
              "\n",
              "    .dataframe tbody tr th {\n",
              "        vertical-align: top;\n",
              "    }\n",
              "\n",
              "    .dataframe thead th {\n",
              "        text-align: right;\n",
              "    }\n",
              "</style>\n",
              "<table border=\"1\" class=\"dataframe\">\n",
              "  <thead>\n",
              "    <tr style=\"text-align: right;\">\n",
              "      <th></th>\n",
              "      <th>Rank</th>\n",
              "      <th>Name</th>\n",
              "      <th>Platform</th>\n",
              "      <th>Year</th>\n",
              "      <th>Genre</th>\n",
              "      <th>Publisher</th>\n",
              "      <th>NA_Sales</th>\n",
              "      <th>EU_Sales</th>\n",
              "      <th>JP_Sales</th>\n",
              "      <th>Other_Sales</th>\n",
              "      <th>Global_Sales</th>\n",
              "    </tr>\n",
              "  </thead>\n",
              "  <tbody>\n",
              "    <tr>\n",
              "      <th>16588</th>\n",
              "      <td>16591</td>\n",
              "      <td>Mega Brain Boost</td>\n",
              "      <td>DS</td>\n",
              "      <td>2008.0</td>\n",
              "      <td>Puzzle</td>\n",
              "      <td>Majesco Entertainment</td>\n",
              "      <td>0.01</td>\n",
              "      <td>0.00</td>\n",
              "      <td>0.00</td>\n",
              "      <td>0.0</td>\n",
              "      <td>0.01</td>\n",
              "    </tr>\n",
              "    <tr>\n",
              "      <th>16589</th>\n",
              "      <td>16592</td>\n",
              "      <td>Chou Ezaru wa Akai Hana: Koi wa Tsuki ni Shiru...</td>\n",
              "      <td>PSV</td>\n",
              "      <td>2016.0</td>\n",
              "      <td>Action</td>\n",
              "      <td>dramatic create</td>\n",
              "      <td>0.00</td>\n",
              "      <td>0.00</td>\n",
              "      <td>0.01</td>\n",
              "      <td>0.0</td>\n",
              "      <td>0.01</td>\n",
              "    </tr>\n",
              "    <tr>\n",
              "      <th>16590</th>\n",
              "      <td>16593</td>\n",
              "      <td>Eiyuu Densetsu: Sora no Kiseki Material Collec...</td>\n",
              "      <td>PSP</td>\n",
              "      <td>2007.0</td>\n",
              "      <td>Role-Playing</td>\n",
              "      <td>Falcom Corporation</td>\n",
              "      <td>0.00</td>\n",
              "      <td>0.00</td>\n",
              "      <td>0.01</td>\n",
              "      <td>0.0</td>\n",
              "      <td>0.01</td>\n",
              "    </tr>\n",
              "    <tr>\n",
              "      <th>16591</th>\n",
              "      <td>16594</td>\n",
              "      <td>Myst IV: Revelation</td>\n",
              "      <td>PC</td>\n",
              "      <td>2004.0</td>\n",
              "      <td>Adventure</td>\n",
              "      <td>Ubisoft</td>\n",
              "      <td>0.01</td>\n",
              "      <td>0.00</td>\n",
              "      <td>0.00</td>\n",
              "      <td>0.0</td>\n",
              "      <td>0.01</td>\n",
              "    </tr>\n",
              "    <tr>\n",
              "      <th>16592</th>\n",
              "      <td>16595</td>\n",
              "      <td>Plushees</td>\n",
              "      <td>DS</td>\n",
              "      <td>2008.0</td>\n",
              "      <td>Simulation</td>\n",
              "      <td>Destineer</td>\n",
              "      <td>0.01</td>\n",
              "      <td>0.00</td>\n",
              "      <td>0.00</td>\n",
              "      <td>0.0</td>\n",
              "      <td>0.01</td>\n",
              "    </tr>\n",
              "    <tr>\n",
              "      <th>16593</th>\n",
              "      <td>16596</td>\n",
              "      <td>Woody Woodpecker in Crazy Castle 5</td>\n",
              "      <td>GBA</td>\n",
              "      <td>2002.0</td>\n",
              "      <td>Platform</td>\n",
              "      <td>Kemco</td>\n",
              "      <td>0.01</td>\n",
              "      <td>0.00</td>\n",
              "      <td>0.00</td>\n",
              "      <td>0.0</td>\n",
              "      <td>0.01</td>\n",
              "    </tr>\n",
              "    <tr>\n",
              "      <th>16594</th>\n",
              "      <td>16597</td>\n",
              "      <td>Men in Black II: Alien Escape</td>\n",
              "      <td>GC</td>\n",
              "      <td>2003.0</td>\n",
              "      <td>Shooter</td>\n",
              "      <td>Infogrames</td>\n",
              "      <td>0.01</td>\n",
              "      <td>0.00</td>\n",
              "      <td>0.00</td>\n",
              "      <td>0.0</td>\n",
              "      <td>0.01</td>\n",
              "    </tr>\n",
              "    <tr>\n",
              "      <th>16595</th>\n",
              "      <td>16598</td>\n",
              "      <td>SCORE International Baja 1000: The Official Game</td>\n",
              "      <td>PS2</td>\n",
              "      <td>2008.0</td>\n",
              "      <td>Racing</td>\n",
              "      <td>Activision</td>\n",
              "      <td>0.00</td>\n",
              "      <td>0.00</td>\n",
              "      <td>0.00</td>\n",
              "      <td>0.0</td>\n",
              "      <td>0.01</td>\n",
              "    </tr>\n",
              "    <tr>\n",
              "      <th>16596</th>\n",
              "      <td>16599</td>\n",
              "      <td>Know How 2</td>\n",
              "      <td>DS</td>\n",
              "      <td>2010.0</td>\n",
              "      <td>Puzzle</td>\n",
              "      <td>7G//AMES</td>\n",
              "      <td>0.00</td>\n",
              "      <td>0.01</td>\n",
              "      <td>0.00</td>\n",
              "      <td>0.0</td>\n",
              "      <td>0.01</td>\n",
              "    </tr>\n",
              "    <tr>\n",
              "      <th>16597</th>\n",
              "      <td>16600</td>\n",
              "      <td>Spirits &amp; Spells</td>\n",
              "      <td>GBA</td>\n",
              "      <td>2003.0</td>\n",
              "      <td>Platform</td>\n",
              "      <td>Wanadoo</td>\n",
              "      <td>0.01</td>\n",
              "      <td>0.00</td>\n",
              "      <td>0.00</td>\n",
              "      <td>0.0</td>\n",
              "      <td>0.01</td>\n",
              "    </tr>\n",
              "  </tbody>\n",
              "</table>\n",
              "</div>"
            ],
            "text/plain": [
              "        Rank                                               Name Platform  \\\n",
              "16588  16591                                   Mega Brain Boost       DS   \n",
              "16589  16592  Chou Ezaru wa Akai Hana: Koi wa Tsuki ni Shiru...      PSV   \n",
              "16590  16593  Eiyuu Densetsu: Sora no Kiseki Material Collec...      PSP   \n",
              "16591  16594                                Myst IV: Revelation       PC   \n",
              "16592  16595                                           Plushees       DS   \n",
              "16593  16596                 Woody Woodpecker in Crazy Castle 5      GBA   \n",
              "16594  16597                      Men in Black II: Alien Escape       GC   \n",
              "16595  16598   SCORE International Baja 1000: The Official Game      PS2   \n",
              "16596  16599                                         Know How 2       DS   \n",
              "16597  16600                                   Spirits & Spells      GBA   \n",
              "\n",
              "         Year         Genre              Publisher  NA_Sales  EU_Sales  \\\n",
              "16588  2008.0        Puzzle  Majesco Entertainment      0.01      0.00   \n",
              "16589  2016.0        Action        dramatic create      0.00      0.00   \n",
              "16590  2007.0  Role-Playing     Falcom Corporation      0.00      0.00   \n",
              "16591  2004.0     Adventure                Ubisoft      0.01      0.00   \n",
              "16592  2008.0    Simulation              Destineer      0.01      0.00   \n",
              "16593  2002.0      Platform                  Kemco      0.01      0.00   \n",
              "16594  2003.0       Shooter             Infogrames      0.01      0.00   \n",
              "16595  2008.0        Racing             Activision      0.00      0.00   \n",
              "16596  2010.0        Puzzle               7G//AMES      0.00      0.01   \n",
              "16597  2003.0      Platform                Wanadoo      0.01      0.00   \n",
              "\n",
              "       JP_Sales  Other_Sales  Global_Sales  \n",
              "16588      0.00          0.0          0.01  \n",
              "16589      0.01          0.0          0.01  \n",
              "16590      0.01          0.0          0.01  \n",
              "16591      0.00          0.0          0.01  \n",
              "16592      0.00          0.0          0.01  \n",
              "16593      0.00          0.0          0.01  \n",
              "16594      0.00          0.0          0.01  \n",
              "16595      0.00          0.0          0.01  \n",
              "16596      0.00          0.0          0.01  \n",
              "16597      0.00          0.0          0.01  "
            ]
          },
          "execution_count": 19,
          "metadata": {},
          "output_type": "execute_result"
        }
      ],
      "source": [
        "# Display last 10 rows.\n",
        "\n",
        "df.tail(10)\n"
      ]
    },
    {
      "cell_type": "code",
      "execution_count": 20,
      "metadata": {},
      "outputs": [
        {
          "data": {
            "text/plain": [
              "Platform\n",
              "PS2     1255.64\n",
              "X360     979.96\n",
              "PS3      957.84\n",
              "Name: Global_Sales, dtype: float64"
            ]
          },
          "execution_count": 20,
          "metadata": {},
          "output_type": "execute_result"
        }
      ],
      "source": [
        "# Determine the top 3 gaming platforms with the highest global sales.\n",
        "\n",
        "df.groupby('Platform')['Global_Sales'].sum().nlargest(3)\n"
      ]
    },
    {
      "cell_type": "code",
      "execution_count": 21,
      "metadata": {},
      "outputs": [
        {
          "data": {
            "text/plain": [
              "Genre\n",
              "Action          19.631094\n",
              "Adventure        2.679688\n",
              "Fighting         5.032375\n",
              "Misc             9.079821\n",
              "Platform         9.319832\n",
              "Puzzle           2.745941\n",
              "Racing           8.206322\n",
              "Role-Playing    10.396012\n",
              "Shooter         11.629135\n",
              "Simulation       4.396644\n",
              "Sports          14.920004\n",
              "Strategy         1.963132\n",
              "Name: Global_Sales, dtype: float64"
            ]
          },
          "execution_count": 21,
          "metadata": {},
          "output_type": "execute_result"
        }
      ],
      "source": [
        "# Calculate the market share (percentage of global sales) for each genre.\n",
        "\n",
        "total_global_sales = df['Global_Sales'].sum()\n",
        "genre_sales = df.groupby('Genre')['Global_Sales'].sum()\n",
        "market_share = (genre_sales / total_global_sales) * 100\n",
        "market_share\n"
      ]
    },
    {
      "cell_type": "code",
      "execution_count": 22,
      "metadata": {},
      "outputs": [
        {
          "data": {
            "text/plain": [
              "0.7677267483702562"
            ]
          },
          "execution_count": 22,
          "metadata": {},
          "output_type": "execute_result"
        }
      ],
      "source": [
        "# Calculate the correlation coefficient between NA_Sales and EU_Sales. (.corr function)\n",
        "\n",
        "df['NA_Sales'].corr(df['EU_Sales'])"
      ]
    }
  ],
  "metadata": {
    "colab": {
      "provenance": []
    },
    "kernelspec": {
      "display_name": "Python 3",
      "name": "python3"
    },
    "language_info": {
      "codemirror_mode": {
        "name": "ipython",
        "version": 3
      },
      "file_extension": ".py",
      "mimetype": "text/x-python",
      "name": "python",
      "nbconvert_exporter": "python",
      "pygments_lexer": "ipython3",
      "version": "3.11.5"
    }
  },
  "nbformat": 4,
  "nbformat_minor": 0
}
